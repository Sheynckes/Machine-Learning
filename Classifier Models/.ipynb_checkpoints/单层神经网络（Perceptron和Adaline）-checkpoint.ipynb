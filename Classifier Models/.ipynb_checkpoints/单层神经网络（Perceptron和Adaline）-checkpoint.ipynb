{
 "cells": [
  {
   "cell_type": "code",
   "execution_count": 2,
   "metadata": {},
   "outputs": [],
   "source": [
    "%matplotlib inline"
   ]
  },
  {
   "cell_type": "markdown",
   "metadata": {},
   "source": [
    "# Introduction\n",
    "\n",
    "本节介绍最早以算法方式描述的分类机器学习算法：感知器（**Perceptron**）和自适应线性神经元（**ada**ptive **li**near **ne**uron，**Adaline**）。\n",
    "\n",
    "在介绍Perceptron和Adaline基本理论的基础上，使用Python分别实现Perceptron和Adaline算法，并将其应用于Iris数据集中。最后，介绍如何使用`scikit-learn`快速构建Perceptron模型。"
   ]
  },
  {
   "cell_type": "markdown",
   "metadata": {},
   "source": [
    "# 人造神经元\n",
    "\n",
    "为了理解大脑的工作原理以设计人工智能系统，Warren McCullock与Walter Pitts在1943年提出了第一个脑神经元的抽象模型，也称作McCullock-Pitts neuron（MCP），神经元是大脑中相互连接的神经细胞，它可以处理和传递化学和电信号，如下图所示："
   ]
  },
  {
   "cell_type": "code",
   "execution_count": 2,
   "metadata": {},
   "outputs": [
    {
     "data": {
      "text/html": [
       "<img src=\"img/Neuron schematic diagram.png\">"
      ],
      "text/plain": [
       "<IPython.core.display.HTML object>"
      ]
     },
     "metadata": {},
     "output_type": "display_data"
    }
   ],
   "source": [
    "%%html\n",
    "<img src=\"img/Neuron schematic diagram.png\">"
   ]
  },
  {
   "cell_type": "markdown",
   "metadata": {},
   "source": [
    "MCP神经元将神经细胞描述为一个具备二进制输出的逻辑门。树突接收多个输入信号，如果累加的信号超过某一阈值，经细胞体的整合就会生成一个输出信号，并通过轴突进行传递。\n",
    "\n",
    "1957年，Frank Rossenblatt基于MCP神经元模型提出了第一个感知器（Perceptron）学习法则。在Frank Rosenblatt提出感知器算法几年之后，Bernard Widrow和他的博士生Tedd Hoff提出了自适应线性神经元（Adaline）算法，这可以看作对之前算法的改进。"
   ]
  },
  {
   "cell_type": "markdown",
   "metadata": {},
   "source": [
    "Perceptron的计算流程如下图所示："
   ]
  },
  {
   "cell_type": "code",
   "execution_count": 3,
   "metadata": {},
   "outputs": [
    {
     "data": {
      "text/html": [
       "<img src=\"img/Perceptron schematic diagram.png\">"
      ],
      "text/plain": [
       "<IPython.core.display.HTML object>"
      ]
     },
     "metadata": {},
     "output_type": "display_data"
    }
   ],
   "source": [
    "%%html\n",
    "<img src=\"img/Perceptron schematic diagram.png\">"
   ]
  },
  {
   "cell_type": "markdown",
   "metadata": {},
   "source": [
    "Adaline的计算流程如下图所示："
   ]
  },
  {
   "cell_type": "code",
   "execution_count": 4,
   "metadata": {},
   "outputs": [
    {
     "data": {
      "text/html": [
       "<img src=\"img/Adaline schematic diagram.png\">"
      ],
      "text/plain": [
       "<IPython.core.display.HTML object>"
      ]
     },
     "metadata": {},
     "output_type": "display_data"
    }
   ],
   "source": [
    "%%html\n",
    "<img src=\"img/Adaline schematic diagram.png\">"
   ]
  },
  {
   "cell_type": "markdown",
   "metadata": {},
   "source": [
    "由Perceptron和Adaline的计算流程图可以看出，二者的计算规则特别简单，可以总结为以下几步：\n",
    "\n",
    "- 将权重初始化为0或者一个极小的随机数；\n",
    "- 迭代训练样本，执行以下操作：\n",
    "    - 通过激励函数计算输出值；\n",
    "    - 更新权重。\n",
    "\n",
    "可见，Perceptron和Adaline均通过自学习算法对权重系数进行自动优化，该系数与输入值的乘积决定了神经元是否被激活。在监督学习与分类问题中，类似算法可用于对样本的所属类别进行预测（如对于二分类问题，可以根据神经元的激活状态确定样本的所属类别）。\n",
    "\n",
    "Perceptron和Adaline的主要区别在于：\n",
    "- 如何判断神经元是否被激活——激励函数的形式；\n",
    "- 模型误差的计算方式；\n",
    "- 权重系数的更新方式。"
   ]
  },
  {
   "cell_type": "markdown",
   "metadata": {},
   "source": [
    "# 激励函数\n",
    "\n",
    "我们可以定义一个激励函数（Activation Function，$\\phi(z)$），它以输入值$\\mathbf{x}$与响应的权重系数$\\mathbf{w}$的线性组合结果$z=\\mathbf{w·x}$作为输入，经过一定的运算得到输出结果。将该输出结果与某个设定的阈值进行比较：如果输出结果大于该阈值，则输入值$\\mathbf{x}$属于A类（可用1表示）；如果输出结果小于该阈值，则输入值$\\mathbf{x}$属于B类（可用-1表示）。\n",
    "\n",
    "- Perceptron算法中的激励函数是一个单位阶跃函数。\n",
    "- Adaline算法中的激励函数是一个线性函数，如$\\phi(z)=z$，并通过一个阶跃的量化器给出最终的结果。\n",
    "\n",
    "从输出结果的角度而言，Perceptron和Adaline算法的激励函数是一致的。二者更本质的区别在于模型误差的计算方式和权重的更新方式。"
   ]
  },
  {
   "cell_type": "markdown",
   "metadata": {},
   "source": [
    "# 计算误差\n",
    "\n",
    "- Perceptron算法通过将激励函数与类标进行比较，以错分类（misclassification）数量计算模型的误差；\n",
    "- Adaline算法引入**代价函数**对模型的误差进行计算，并且通过对代价函数的最小化优化来实现对权重的更新，可以将代价函数$J(w)$定义为通过模型得到的输出与实际类标之间的误差平方和（Sum of Squared Error，**SSE**）:\n",
    "\n",
    "$$J(\\mathbf{w}) = \\frac{1}{2} \\sum_{i=1}^{n}{[y^{(i)}-\\phi(z^{(i)})]}^2$$"
   ]
  },
  {
   "cell_type": "markdown",
   "metadata": {},
   "source": [
    "# 更新权重\n",
    "\n",
    "每次计算过程中，对权重系数的更新方式为：\n",
    "\n",
    "$$w_j := w_j + \\Delta w_j$$\n",
    "\n",
    "- Perceptron算法通过分类类标计算模型的误差并更新权重：\n",
    "\n",
    "$$\\Delta w_j = \\eta(y^{(i)} - \\hat{y}^{(i)})x_j^{(i)}$$\n",
    "\n",
    "- Adaline算法通过梯度下降法对代价函数进行最小化优化（因为梯度相反的方向是学习速率最快的方向），并在优化的过程中实现对权重的更新，实际上是使用线性激励函数的输出结果（即输入值$\\mathbf{x}$与响应的权重系数$\\mathbf{w}$的线性组合结果z）对权重进行更新：\n",
    "    - 批量梯度下降算法（Batch Gradient Descent，BGD）是基于训练集中所有样本完成对权重的更新：\n",
    "$$\\Delta w_j = -\\eta \\frac{\\partial J}{\\partial w_j} = \\eta \\sum_{i=1}^{n}{[y^{(i)}-\\phi(z^{(i)})]x^{(i)}}$$\n",
    "    - 随机梯度下降算法（Stochastic Gradient Descent，SGD）每次使用一个训练样本渐进地更新权重：\n",
    "$$\\Delta \\mathbf{w} = \\eta [y^{(i)}-\\phi(z^{(i)})]x^{(i)}$$"
   ]
  },
  {
   "cell_type": "markdown",
   "metadata": {},
   "source": [
    "# Coding"
   ]
  },
  {
   "cell_type": "code",
   "execution_count": 34,
   "metadata": {},
   "outputs": [],
   "source": [
    "# 导入常用的库\n",
    "\n",
    "import pandas as pd\n",
    "import numpy as np\n",
    "import matplotlib.pyplot as plt"
   ]
  },
  {
   "cell_type": "markdown",
   "metadata": {},
   "source": [
    "## 数据集\n",
    "\n",
    "使用Iris数据集对Perceptron和Adaline算法进行测试。\n",
    "\n",
    "- Iris数据集可以从UCI Repository中获得。\n",
    "- 出于实际需要的考虑，从Iris数据集中挑选Setosa和Versicolor两种花（Iris数据集中的前100个数据）的信息作为测试数据。\n",
    "- 出于可视化方面的原因，我们只考虑sepal length和petal length这两个特征，并利用二维散点图对这些数据进行可视化。"
   ]
  },
  {
   "cell_type": "code",
   "execution_count": 36,
   "metadata": {},
   "outputs": [
    {
     "data": {
      "image/png": "[encoded data removed]",
      "text/plain": [
       "<matplotlib.figure.Figure at 0x1a18c05240>"
      ]
     },
     "metadata": {},
     "output_type": "display_data"
    }
   ],
   "source": [
    "df = pd.read_csv(\"https://archive.ics.uci.edu/ml/machine-learning-databases/iris/iris.data\", header=None)\n",
    "y_uci = df.iloc[0:100, 4].values\n",
    "y_uci = np.where(y_uci==\"Iris-setosa\", -1, 1)\n",
    "X_uci = df.iloc[0:100, [0, 2]].values\n",
    "plt.scatter(X_uci[:50, 0], X_uci[:50, 1], color='red', marker='o', label=\"setosa\")\n",
    "plt.scatter(X_uci[50:100, 0], X_uci[50:100, 1], color='blue', marker='x', label=\"versicolor\")\n",
    "plt.xlabel(\"setal length [cm]\")\n",
    "plt.ylabel(\"pepal length [cm]\")\n",
    "plt.legend(loc=\"upper left\")\n",
    "plt.show()"
   ]
  },
  {
   "cell_type": "markdown",
   "metadata": {},
   "source": [
    "## 辅助函数\n",
    "\n",
    "借助以下`plot_decision_region()`函数，可以绘制模型的决策区域，并观察不同样本的分类效果；其中，使用灰色小圆圈显示来自测试数据集的样本。"
   ]
  },
  {
   "cell_type": "code",
   "execution_count": 37,
   "metadata": {},
   "outputs": [],
   "source": [
    "# %load scripts/plot_decision_region.py\n",
    "# @Time    : 2018/5/10 22:45\n",
    "# @Author  : SHeynckes\n",
    "# @Email   : sheynckes@outlook.com\n",
    "# @File    : plot_decision_region.py\n",
    "# @Software: PyCharm\n",
    "\n",
    "\n",
    "import numpy as np\n",
    "import matplotlib.pyplot as plt\n",
    "from matplotlib.colors import ListedColormap\n",
    "\n",
    "\n",
    "def plot_decision_regions(X, y, classifier, test_idx=None, resolution=0.02):\n",
    "    # setup marker generator and color map\n",
    "    markers = (\"s\", \"x\", \"o\", \"^\", \"v\")\n",
    "    colors = (\"red\", \"blue\", \"lightgreen\", \"gray\", \"cyan\")\n",
    "    cmap = ListedColormap(colors[:len(np.unique(y))])\n",
    "\n",
    "    # plot the decision surface\n",
    "    x1_min = X[:, 0].min() - 1\n",
    "    x1_max = X[:, 0].max() + 1\n",
    "    x2_min = X[:, 1].min() - 1\n",
    "    x2_max = X[:, 1].max() + 1\n",
    "    xx1, xx2 = np.meshgrid(np.arange(x1_min, x1_max, resolution), np.arange(x2_min, x2_max, resolution))\n",
    "    Z = classifier.predict(np.array([xx1.ravel(), xx2.ravel()]).T)\n",
    "    Z = Z.reshape(xx1.shape)\n",
    "    plt.contourf(xx1, xx2, Z, alpha=0.4, cmap=cmap)\n",
    "    plt.xlim(xx1.min(), xx1.max())\n",
    "    plt.ylim(xx2.min(), xx2.max())\n",
    "\n",
    "    # plot all samples\n",
    "    for idx, cl in enumerate(np.unique(y)):\n",
    "        plt.scatter(x=X[y == cl, 0], y=X[y == cl, 1], alpha=0.8,\n",
    "                    c=cmap(idx), marker=markers[idx], label=cl)\n",
    "\n",
    "    # highlight test samples\n",
    "    if test_idx:\n",
    "        X_test = X[test_idx, :]\n",
    "        y_test = y[test_idx]\n",
    "        plt.scatter(X_test[:, 0], X_test[:, 1], c=\"grey\", alpha=1.0,\n",
    "                    linewidth=1, marker=\"o\", s=55, label=\"Test Set\")"
   ]
  },
  {
   "cell_type": "markdown",
   "metadata": {},
   "source": [
    "## Perceptron的实现及应用\n",
    "\n",
    "首先，利用Python实现感知器学习算法。"
   ]
  },
  {
   "cell_type": "code",
   "execution_count": 38,
   "metadata": {},
   "outputs": [],
   "source": [
    "# %load scripts/Perceptron.py\n",
    "# @Time    : 2018/5/7 23:40\n",
    "# @Author  : SHeynckes\n",
    "# @Email   : sheynckes@outlook.com\n",
    "# @File    : Perceptron.py\n",
    "# @Software: PyCharm\n",
    "\n",
    "\n",
    "# 使用Python实现感知器学习算法\n",
    "\n",
    "import numpy as np\n",
    "\n",
    "\n",
    "class PerceptronSimple(object):\n",
    "    # 通过使用面向对象编程的方式在一个Python类中定义感知器的接口，使得我们可以初始化新的感知器对象\n",
    "    # 使用类中定义的fit()方法对感知器进行训练，使用predict()方法利用训练后的感知器进行预测\n",
    "    \"\"\"\n",
    "    Perceptron classifier.\n",
    "\n",
    "    Parameters\n",
    "    ----------\n",
    "    eta: float\n",
    "        Learning rate (between 0.0 and 1.0)\n",
    "    n_iter: int\n",
    "        Passes over the training dataset\n",
    "\n",
    "    Attributes\n",
    "    ----------\n",
    "    w_: 1d-array\n",
    "        Weights after fitting\n",
    "    errors_: list\n",
    "        Number of misclassifications in every epoch.\n",
    "    \"\"\"\n",
    "\n",
    "    def __init__(self, eta=0.01, n_iter=10):\n",
    "        self.eta = eta\n",
    "        self.n_iter = n_iter\n",
    "\n",
    "    def fit(self, X, y):\n",
    "        \"\"\"\n",
    "        Fit training data.\n",
    "\n",
    "        Parameters\n",
    "        ----------\n",
    "        X: {array-like}, shape=[n_samples, n_features]\n",
    "            Training vectors, where n_samples is the number of samples and\n",
    "            n_features is the number of features.\n",
    "        y: array-like, shape=[n_samples]\n",
    "            Target values:\n",
    "\n",
    "        Returns\n",
    "        ----------\n",
    "        self: object\n",
    "        \"\"\"\n",
    "        # 将权重系数初始化为0\n",
    "        # 按照Python开发的惯例，对于那些并非再初始化对象时创建、但是又被对象中其他方法调用的属性，\n",
    "        # 可以在其后面添加一个下划线，例如：self.w_。\n",
    "        self.w_ = np.zeros(1 + X.shape[1])\n",
    "        self.errors_ = []\n",
    "\n",
    "        for _ in range(self.n_iter):\n",
    "            errors = 0\n",
    "            for xi, target in zip(X, y):\n",
    "                # 更新权重系数\n",
    "                update = self.eta * (target - self.predict(xi))\n",
    "                self.w_[1:] += update * xi\n",
    "                self.w_[0] += update\n",
    "                # 累计错分类的数量\n",
    "                errors += int(update != 0.0)\n",
    "            self.errors_.append(errors)\n",
    "        return self\n",
    "\n",
    "    def net_input(self, X):\n",
    "        \"\"\"\n",
    "        Calculate net input\n",
    "        \"\"\"\n",
    "        return np.dot(X, self.w_[1:]) + self.w_[0]\n",
    "\n",
    "    def predict(self, X):\n",
    "        \"\"\"\n",
    "        Return class label after unit step\n",
    "        \"\"\"\n",
    "        return np.where(self.net_input(X) >= 0.0, 1, -1)\n"
   ]
  },
  {
   "cell_type": "markdown",
   "metadata": {},
   "source": [
    "利用抽取出的Iris数据子集来训练感知器。绘制每次迭代的错误分类数量的折线图，以检验算法是否收敛。结果表明，分类器在第6次迭代后就已经收敛，并且具有对训练样本进行正确分类的能力。"
   ]
  },
  {
   "cell_type": "code",
   "execution_count": 39,
   "metadata": {},
   "outputs": [
    {
     "data": {
      "image/png": "[encoded data removed]",
      "text/plain": [
       "<matplotlib.figure.Figure at 0x1a18af4208>"
      ]
     },
     "metadata": {},
     "output_type": "display_data"
    }
   ],
   "source": [
    "ppn = PerceptronSimple(eta=0.1, n_iter=10)\n",
    "ppn.fit(X_uci, y_uci)\n",
    "plt.plot(range(1, len(ppn.errors_)+1), ppn.errors_, marker=\"o\")\n",
    "plt.xlabel(\"Epochs\")\n",
    "plt.ylabel(\"Number of misclassifications\")\n",
    "plt.show()"
   ]
  },
  {
   "cell_type": "markdown",
   "metadata": {},
   "source": [
    "利用`plot_decision_regions()`函数对区分Setosa和Versicolor的决策边界进行可视化。结果表明，通过感知器学习得到的分类曲面可以完美地对训练子集中的所有样本进行分类。"
   ]
  },
  {
   "cell_type": "code",
   "execution_count": 40,
   "metadata": {},
   "outputs": [
    {
     "data": {
      "image/png": "[encoded data removed]",
      "text/plain": [
       "<matplotlib.figure.Figure at 0x1a18d8eb38>"
      ]
     },
     "metadata": {},
     "output_type": "display_data"
    }
   ],
   "source": [
    "plot_decision_regions(X_uci, y_uci, classifier=ppn)\n",
    "plt.xlabel(\"setal length [cm]\")\n",
    "plt.ylabel(\"pepal length [cm]\")\n",
    "plt.legend(loc=\"upper left\")\n",
    "plt.show()"
   ]
  },
  {
   "cell_type": "markdown",
   "metadata": {},
   "source": [
    "## 批量梯度下降Adaline算法的实现及应用\n",
    "\n",
    "首先，利用Python实现批量梯度下降的Adaline算法。"
   ]
  },
  {
   "cell_type": "code",
   "execution_count": 41,
   "metadata": {},
   "outputs": [],
   "source": [
    "# %load scripts/Adaline_BGD.py\n",
    "# @Time    : 2018/5/7 23:55\n",
    "# @Author  : SHeynckes\n",
    "# @Email   : sheynckes@outlook.com\n",
    "# @File    : Adaline_BGD.py\n",
    "# @Software: PyCharm\n",
    "\n",
    "\n",
    "import numpy as np\n",
    "\n",
    "\n",
    "class AdalineBGD(object):\n",
    "    # 通过使用面向对象编程的方式在一个Python类中定义AdalineBGD的接口.\n",
    "    # 使用类中定义的fit()方法对Adaline进行训练，使用predict()方法利用训练后的Adaline进行预测。\n",
    "    \"\"\"\n",
    "    ADAptive LInear NEuron classifier.\n",
    "\n",
    "    Parameters\n",
    "    ----------\n",
    "    eta: float\n",
    "        Learning rate (between 0.0 and 1.0)\n",
    "    n_iter: int\n",
    "        Passes over the training dataset\n",
    "\n",
    "    Attributes\n",
    "    ----------\n",
    "    w_: 1d-array\n",
    "        Weights after fitting\n",
    "    errors_: list\n",
    "        Number of misclassifications in every epoch.\n",
    "    \"\"\"\n",
    "\n",
    "    def __init__(self, eta=0.01, n_iter=50):\n",
    "        self.eta = eta\n",
    "        self.n_iter = n_iter\n",
    "\n",
    "    def fit(self, X, y):\n",
    "        \"\"\"\n",
    "        Fit training data.\n",
    "\n",
    "        Parameters\n",
    "        ----------\n",
    "        X: {array-like}, shape=[n_samples, n_features]\n",
    "            Training vectors, where n_samples is the number of samples and\n",
    "            n_features is the number of features.\n",
    "        y: array-like, shape=[n_samples]\n",
    "            Target values.\n",
    "\n",
    "        Returns\n",
    "        ----------\n",
    "        self: object\n",
    "        \"\"\"\n",
    "        self.w_ = np.zeros(1 + X.shape[1])\n",
    "        self.cost_ = []\n",
    "\n",
    "        for i in range(self.n_iter):\n",
    "            output = self.net_input(X)\n",
    "            errors = (y - output)\n",
    "            self.w_[1:] += self.eta * X.T.dot(errors)\n",
    "            self.w_[0] += self.eta * errors.sum()\n",
    "            cost = (errors ** 2).sum() / 2.0\n",
    "            self.cost_.append(cost)\n",
    "        return self\n",
    "\n",
    "    def net_input(self, X):\n",
    "        \"\"\"\n",
    "        Calculate net input\n",
    "        \"\"\"\n",
    "        return np.dot(X, self.w_[1:]) + self.w_[0]\n",
    "\n",
    "    def activation(self, X):\n",
    "        \"\"\"\n",
    "        Compute linear activation\n",
    "        \"\"\"\n",
    "        return self.net_input(X)\n",
    "\n",
    "    def predict(self, X):\n",
    "        \"\"\"\n",
    "        Return class label after unit step\n",
    "        \"\"\"\n",
    "        return np.where(self.activation(X) >= 0.0, 1, -1)\n"
   ]
  },
  {
   "cell_type": "markdown",
   "metadata": {},
   "source": [
    "利用抽取出的Iris数据子集对批量梯度下降的Adaline算法进行测试。以下代码比较了不同学习速率对训练结果的影响。\n",
    "\n",
    "- 如果学习速率过大，可能会由于算法跳过了全局最优解，导致误差随着迭代次数的增加而增大。\n",
    "- 如果学习速率太小，可能会导致收敛速率过慢，浪费过多的计算成本。"
   ]
  },
  {
   "cell_type": "code",
   "execution_count": 42,
   "metadata": {},
   "outputs": [
    {
     "data": {
      "image/png": "[encoded data removed]",
      "text/plain": [
       "<matplotlib.figure.Figure at 0x1a1912d278>"
      ]
     },
     "metadata": {},
     "output_type": "display_data"
    }
   ],
   "source": [
    "fig, ax = plt.subplots(nrows=1, ncols=2, figsize=(8,4))\n",
    "\n",
    "ada_BGD1 = AdalineBGD(eta=0.01, n_iter=10).fit(X_uci, y_uci)\n",
    "ax[0].plot(range(1, len(ada_BGD1.cost_)+1), np.log10(ada_BGD1.cost_), marker=\"o\")\n",
    "ax[0].set_xlabel(\"Epochs\")\n",
    "ax[0].set_ylabel(\"log(Sum_squared_error)\")\n",
    "ax[0].set_title(\"Adaline - Learning rate 0.01\")\n",
    "\n",
    "ada_BGD2 = AdalineBGD(eta=0.0001, n_iter=10).fit(X_uci, y_uci)\n",
    "ax[1].plot(range(1, len(ada_BGD2.cost_)+1), ada_BGD2.cost_, marker=\"o\")\n",
    "ax[1].set_xlabel(\"Epochs\")\n",
    "ax[1].set_ylabel(\"Sum_squared_error\")\n",
    "ax[1].set_title(\"Adaline - Learning rate 0.0001\")\n",
    "plt.show()"
   ]
  },
  {
   "cell_type": "markdown",
   "metadata": {},
   "source": [
    "通过对特征值范围进行特征缩放，可以优化算法的性能。以下采用一种称为『标准化』的特征缩放方法，可以使数据具备标准正态分布的特性：各特征值的均值为0，标准差为1。标准化可以简单的通过NumPy库中的`mean()`和`std()`方法来完成。"
   ]
  },
  {
   "cell_type": "code",
   "execution_count": 43,
   "metadata": {},
   "outputs": [],
   "source": [
    "X_uci_std = np.copy(X_uci)\n",
    "X_uci_std[:, 0] = (X_uci[:, 0] - X_uci[:, 0].mean()) / X_uci[:, 0].std()\n",
    "X_uci_std[:, 1] = (X_uci[:, 1] - X_uci[:, 1].mean()) / X_uci[:, 1].std()"
   ]
  },
  {
   "cell_type": "markdown",
   "metadata": {},
   "source": [
    "在进行标准化操作后，以学习速率0.01再次对AdalineBGD进行训练，看看它是否收敛。同时，利用`plot_decision_regions()`函数对区分Setosa和Versicolor的决策边界进行可视化。可见，Adaline算法在经过标准化特征处理的数据上训练是可以收敛的。另外，虽然所有样本都被正确分类，但是其误差平方和（SSE）的值仍不为零。同时，对区分Setosa和Versicolor的决策边界进行可视化。"
   ]
  },
  {
   "cell_type": "code",
   "execution_count": 44,
   "metadata": {},
   "outputs": [
    {
     "data": {
      "image/png": "[encoded data removed]",
      "text/plain": [
       "<matplotlib.figure.Figure at 0x1a18c3dd68>"
      ]
     },
     "metadata": {},
     "output_type": "display_data"
    },
    {
     "data": {
      "image/png": "[encoded data removed]",
      "text/plain": [
       "<matplotlib.figure.Figure at 0x1a18b9db00>"
      ]
     },
     "metadata": {},
     "output_type": "display_data"
    }
   ],
   "source": [
    "ada_BGD = AdalineBGD(eta = 0.01, n_iter=15)\n",
    "ada_BGD.fit(X_uci_std, y_uci)\n",
    "plot_decision_regions(X_uci_std, y_uci, classifier=ada_BGD)\n",
    "plt.title(\"Adaline - Gradient Descent\")\n",
    "plt.xlabel(\"setal length [standardized]\")\n",
    "plt.ylabel(\"pepal length [standardized]\")\n",
    "plt.legend(loc=\"upper left\")\n",
    "plt.show()\n",
    "plt.plot(range(1, len(ada_BGD.cost_)+1), ada_BGD.cost_, marker=\"o\")\n",
    "plt.xlabel(\"Epochs\")\n",
    "plt.ylabel(\"Sum_squared_error\")\n",
    "plt.show()"
   ]
  },
  {
   "cell_type": "markdown",
   "metadata": {},
   "source": [
    "## 随机梯度下降Adaline算法的实现及应用\n",
    "\n",
    "首先，利用Python实现随机梯度下降的Adaline算法。"
   ]
  },
  {
   "cell_type": "code",
   "execution_count": 45,
   "metadata": {},
   "outputs": [],
   "source": [
    "# %load scripts/Adaline_SGD.py\n",
    "# @Time    : 2018/5/8 00:06\n",
    "# @Author  : SHeynckes\n",
    "# @Email   : sheynckes@outlook.com\n",
    "# @File    : Adaline_SGD.py\n",
    "# @Software: PyCharm\n",
    "\n",
    "\n",
    "# 使用Python实现随机梯度下降的Adaline算法，并将其应用于Iris数据集中。\n",
    "\n",
    "import numpy as np\n",
    "from numpy.random import seed, permutation\n",
    "\n",
    "\n",
    "class AdalineSGD(object):\n",
    "    # 通过使用面向对象编程的方式在一个Python类中定义AdalineSGD的接口.\n",
    "    # 使用类中定义的fit()方法对Adaline进行训练，使用predict()方法利用训练后的Adaline进行预测。\n",
    "    \"\"\"\n",
    "    ADAptive LInear NEuron classifier.\n",
    "\n",
    "    Parameters\n",
    "    ----------\n",
    "    eta: float\n",
    "        Learning rate (between 0.0 and 1.0)\n",
    "    n_iter: int\n",
    "        Passes over the training dataset\n",
    "\n",
    "    Attributes\n",
    "    ----------\n",
    "    w_: 1d-array\n",
    "        Weights after fitting\n",
    "    errors_: list\n",
    "        Number of misclassifications in every epoch.\n",
    "    shuffle: bool (default: True)\n",
    "        Shuffles training data every epoch if True to prevent cycles.\n",
    "    random_state: int (default: None)\n",
    "        Set random state for shuffling and initializing the weights.\n",
    "    \"\"\"\n",
    "\n",
    "    def __init__(self, eta=0.01, n_iter=10, shuffle=True, random_state=None):\n",
    "        self.eta = eta\n",
    "        self.n_iter = n_iter\n",
    "        self.w_initialized = False\n",
    "        self.shuffle = shuffle\n",
    "        if random_state:\n",
    "            seed(random_state)\n",
    "\n",
    "    def fit(self, X, y):\n",
    "        \"\"\"\n",
    "        Fit training data.\n",
    "\n",
    "        Parameters\n",
    "        ----------\n",
    "        X: {array-like}, shape=[n_samples, n_features]\n",
    "            Training vectors, where n_samples is the number of samples and\n",
    "            n_features is the number of features.\n",
    "        y: array-like, shape=[n_samples]\n",
    "            Target values.\n",
    "\n",
    "        Returns\n",
    "        ----------\n",
    "        self: object\n",
    "        \"\"\"\n",
    "        self._initialize_weights(X.shape[1])\n",
    "        self.cost_ = []\n",
    "\n",
    "        for i in range(self.n_iter):\n",
    "            if self.shuffle:\n",
    "                X, y = self._shuffle(X, y)\n",
    "            cost = []\n",
    "            for xi, target in zip(X, y):\n",
    "                cost.append(self._update_weights(xi, target))\n",
    "            avg_cost = sum(cost) / len(y)\n",
    "            self.cost_.append(avg_cost)\n",
    "        return self\n",
    "\n",
    "    def partial_fit(self, X, y):\n",
    "        \"\"\"\n",
    "        Fit training data without reinitializing the weights\n",
    "        \"\"\"\n",
    "        if not self.w_initialized:\n",
    "            self._initialize_weights(X.shape[1])\n",
    "        if y.ravel().shape[0] > 1:\n",
    "            for xi, target in zip(X, y):\n",
    "                self._update_weights(xi, target)\n",
    "        else:\n",
    "            self._update_weights(X, y)\n",
    "        return self\n",
    "\n",
    "    def _shuffle(self, X, y):\n",
    "        \"\"\"\n",
    "        Shuffle training data\n",
    "        \"\"\"\n",
    "        r = permutation(len(y))\n",
    "        return X[r], y[r]\n",
    "\n",
    "    def _initialize_weights(self, m):\n",
    "        \"\"\"\n",
    "        Initialize weights to zeros\n",
    "        \"\"\"\n",
    "        self.w_ = np.zeros(1 + m)\n",
    "        self.w_initialized = True\n",
    "\n",
    "    def _update_weights(self, xi, target):\n",
    "        \"\"\"\n",
    "        Apply Adaline learning rule to update the weights\n",
    "        \"\"\"\n",
    "        output = self.net_input(xi)\n",
    "        error = (target - output)\n",
    "        self.w_[1:] += self.eta * xi.dot(error)\n",
    "        self.w_[0] += self.eta * error\n",
    "        cost = 0.5 * error ** 2\n",
    "        return cost\n",
    "\n",
    "    def net_input(self, X):\n",
    "        \"\"\"\n",
    "        Calculate net input\n",
    "        \"\"\"\n",
    "        return np.dot(X, self.w_[1:]) + self.w_[0]\n",
    "\n",
    "    def activation(self, X):\n",
    "        \"\"\"\n",
    "        Compute linear activation\n",
    "        \"\"\"\n",
    "        return self.net_input(X)\n",
    "\n",
    "    def predict(self, X):\n",
    "        \"\"\"\n",
    "        Return class label after unit step\n",
    "        \"\"\"\n",
    "        return np.where(self.activation(X) >= 0.0, 1, -1)\n"
   ]
  },
  {
   "cell_type": "markdown",
   "metadata": {},
   "source": [
    "通过对特征值范围进行特征缩放，可以优化算法的性能。以下采用一种称为『标准化』的特征缩放方法，可以使数据具备标准正态分布的特性：各特征值的均值为0，标准差为1。标准化可以简单的通过NumPy库中的`mean()`和`std()`方法来完成。"
   ]
  },
  {
   "cell_type": "code",
   "execution_count": 46,
   "metadata": {},
   "outputs": [],
   "source": [
    "X_uci_std = np.copy(X_uci)\n",
    "X_uci_std[:, 0] = (X_uci[:, 0] - X_uci[:, 0].mean()) / X_uci[:, 0].std()\n",
    "X_uci_std[:, 1] = (X_uci[:, 1] - X_uci[:, 1].mean()) / X_uci[:, 1].std()"
   ]
  },
  {
   "cell_type": "markdown",
   "metadata": {},
   "source": [
    "在进行标准化操作后，我们以学习速率0.01对AdalineSGD进行训练，看看它是否收敛。同时，利用`plot_decision_regions()`函数对区分Setosa和Versicolor的决策边界进行可视化。可以看到，再随机梯度下降Adaline算法中，代价函数的均值下降得很快，经过15次迭代后，最终的分类界面与批量梯度下降Adaline算法得到的界面类似。"
   ]
  },
  {
   "cell_type": "code",
   "execution_count": 47,
   "metadata": {},
   "outputs": [
    {
     "data": {
      "image/png": "[encoded data removed]",
      "text/plain": [
       "<matplotlib.figure.Figure at 0x1a191434e0>"
      ]
     },
     "metadata": {},
     "output_type": "display_data"
    },
    {
     "data": {
      "image/png": "[encoded data removed]",
      "text/plain": [
       "<matplotlib.figure.Figure at 0x1078eb6d8>"
      ]
     },
     "metadata": {},
     "output_type": "display_data"
    }
   ],
   "source": [
    "ada_SGD = AdalineSGD(n_iter=15, eta=0.01, random_state=1)\n",
    "ada_SGD.fit(X_uci_std, y_uci)\n",
    "plot_decision_regions(X_uci_std, y_uci, classifier=ada_SGD)\n",
    "plt.title(\"Adaline - Stochastic Gradient Descent\")\n",
    "plt.xlabel(\"setal length [standardized]\")\n",
    "plt.ylabel(\"pepal length [standardized]\")\n",
    "plt.legend(loc=\"upper left\")\n",
    "plt.show()\n",
    "plt.plot(range(1, len(ada_SGD.cost_)+1), ada_SGD.cost_, marker=\"o\")\n",
    "plt.xlabel(\"Epochs\")\n",
    "plt.ylabel(\"Average Cost\")\n",
    "plt.show()"
   ]
  },
  {
   "cell_type": "markdown",
   "metadata": {},
   "source": [
    "## 使用`scikit-learn`快速构建Perceptron模型"
   ]
  },
  {
   "cell_type": "code",
   "execution_count": 49,
   "metadata": {},
   "outputs": [],
   "source": [
    "# 从scikit-learn中导入需要的库和函数\n",
    "\n",
    "from sklearn import datasets\n",
    "from sklearn.model_selection import train_test_split\n",
    "from sklearn.preprocessing import StandardScaler\n",
    "from sklearn.linear_model import Perceptron\n",
    "from sklearn.metrics import accuracy_score"
   ]
  },
  {
   "cell_type": "markdown",
   "metadata": {},
   "source": [
    "首先，通过`scikit-learn`中的`datasets`直接导入Iris数据集。提取150个花朵样本中的花瓣长度（petal length）和花瓣宽度（petal width）两个特征的值，并由此构建特征矩阵X，同时将对应花朵所属类型的类标赋值给向量y。\n",
    "\n",
    "同时，为了评估训练得到的模型在未知数据上的表现，需要将数据集划分为训练数据集(含有105个数据）和测试数据集（含有45个数据）。"
   ]
  },
  {
   "cell_type": "code",
   "execution_count": 50,
   "metadata": {},
   "outputs": [],
   "source": [
    "iris = datasets.load_iris()\n",
    "X = iris.data[:, [2, 3]]\n",
    "y = iris.target\n",
    "\n",
    "X_train, X_test, y_train, y_test = train_test_split(X, y, test_size=0.3, random_state=0)"
   ]
  },
  {
   "cell_type": "markdown",
   "metadata": {},
   "source": [
    "使用`scikit-learn`的`preprocessing`模块中的`StandardScaler`类对特征进行标准化处理。使用`StandardScaler`中的`fit()`方法，可以计算训练数据中每个特征的$\\mu$（样本均值）和$\\sigma$（标准差）。通过调用`transform()`方法，可以使用前面计算得到的$\\mu$和$\\sigma$来对训练数据做标准化处理。需注意的是，我们要使用相同的缩放参数分别处理训练和测试数据集，以保证它们的值是彼此相当的。"
   ]
  },
  {
   "cell_type": "code",
   "execution_count": 51,
   "metadata": {},
   "outputs": [],
   "source": [
    "sc = StandardScaler()\n",
    "sc.fit(X_train)\n",
    "X_train_std = sc.transform(X_train)\n",
    "X_test_std = sc.transform(X_test)"
   ]
  },
  {
   "cell_type": "markdown",
   "metadata": {},
   "source": [
    "接下来，就可以对感知器模型进行训练了。`scikit-learn`中的大多数算法本身就使用一对多（One-vs-Rest，OvR）方法来支持多类别分类。因此，我们可以将三种鸢尾花的数据同时输入到感知器中。完成模型的训练后，就可以在测试数据集上使用`predict()`方法进行预测了。可以看到，在感知器对45朵花的分类结果中，有4个是错误的，也就是在测试数据集上的错误率为0.089或者8.9%。"
   ]
  },
  {
   "cell_type": "code",
   "execution_count": 52,
   "metadata": {},
   "outputs": [
    {
     "name": "stdout",
     "output_type": "stream",
     "text": [
      "Misclassified samples: 4\n"
     ]
    }
   ],
   "source": [
    "ppn = Perceptron(max_iter=40, eta0=0.1, random_state=0)\n",
    "ppn.fit(X_train_std, y_train)\n",
    "y_pred = ppn.predict(X_test_std)\n",
    "print(\"Misclassified samples: %d\" % (y_test != y_pred).sum())"
   ]
  },
  {
   "cell_type": "markdown",
   "metadata": {},
   "source": [
    "在`scikit-learn`的`metrics`模块中，还实现了许多不同的性能矩阵。例如，可以通过下列代码计算感知器在测试数据集上的分类准确率。"
   ]
  },
  {
   "cell_type": "code",
   "execution_count": 53,
   "metadata": {},
   "outputs": [
    {
     "name": "stdout",
     "output_type": "stream",
     "text": [
      "Accuracy: 0.91\n"
     ]
    }
   ],
   "source": [
    "print(\"Accuracy: %.2f\" % accuracy_score(y_test, y_pred))"
   ]
  },
  {
   "cell_type": "markdown",
   "metadata": {},
   "source": [
    "利用`plot_decision_regions()`函数绘制模型的决策区域，并观察不同样本的分类效果。可以看出，无法通过一个线性决策边界完美区分三类样本。对于无法完美线性可分的数据集，感知器算法将永远无法收敛，这也是在实践中一般不推荐使用感知器算法的原因。"
   ]
  },
  {
   "cell_type": "code",
   "execution_count": 54,
   "metadata": {},
   "outputs": [
    {
     "data": {
      "image/png": "[encoded data removed]",
      "text/plain": [
       "<matplotlib.figure.Figure at 0x1a186c8be0>"
      ]
     },
     "metadata": {},
     "output_type": "display_data"
    }
   ],
   "source": [
    "X_combined_std = np.vstack((X_train_std, X_test_std))\n",
    "y_combined = np.hstack((y_train, y_test))\n",
    "plot_decision_regions(X=X_combined_std, y=y_combined, classifier=ppn, test_idx=range(105, 150))\n",
    "plt.xlabel(\"petal length [standardized]\")\n",
    "plt.ylabel(\"petal width [standardized]\")\n",
    "plt.legend(loc=\"upper left\")\n",
    "plt.show()"
   ]
  },
  {
   "cell_type": "markdown",
   "metadata": {},
   "source": [
    "注意：感知器收敛的前提是两个类别必须是线性可分的，且学习速率足够小。对于无法完美线性可分的数据集，感知器算法将永远无法收敛，这也是在实践中一般不推荐使用感知器算法的原因。"
   ]
  },
  {
   "cell_type": "code",
   "execution_count": null,
   "metadata": {},
   "outputs": [],
   "source": []
  }
 ],
 "metadata": {
  "kernelspec": {
   "display_name": "Python 3",
   "language": "python",
   "name": "python3"
  },
  "language_info": {
   "codemirror_mode": {
    "name": "ipython",
    "version": 3
   },
   "file_extension": ".py",
   "mimetype": "text/x-python",
   "name": "python",
   "nbconvert_exporter": "python",
   "pygments_lexer": "ipython3",
   "version": "3.6.4"
  },
  "toc": {
   "base_numbering": 1,
   "nav_menu": {},
   "number_sections": true,
   "sideBar": true,
   "skip_h1_title": false,
   "title_cell": "Table of Contents",
   "title_sidebar": "Contents",
   "toc_cell": false,
   "toc_position": {},
   "toc_section_display": true,
   "toc_window_display": true
  }
 },
 "nbformat": 4,
 "nbformat_minor": 2
}
